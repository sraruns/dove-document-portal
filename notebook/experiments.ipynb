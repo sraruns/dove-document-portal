{
 "cells": [
  {
   "cell_type": "code",
   "execution_count": 6,
   "id": "06618874",
   "metadata": {},
   "outputs": [],
   "source": [
    "from langchain_groq import ChatGroq\n"
   ]
  },
  {
   "cell_type": "code",
   "execution_count": 1,
   "id": "73ecea7c",
   "metadata": {},
   "outputs": [
    {
     "name": "stdout",
     "output_type": "stream",
     "text": [
      "all _ok\n"
     ]
    }
   ],
   "source": [
    "print(\"all _ok\")"
   ]
  }
 ],
 "metadata": {
  "kernelspec": {
   "display_name": "conda-py-venv",
   "language": "python",
   "name": "python3"
  },
  "language_info": {
   "codemirror_mode": {
    "name": "ipython",
    "version": 3
   },
   "file_extension": ".py",
   "mimetype": "text/x-python",
   "name": "python",
   "nbconvert_exporter": "python",
   "pygments_lexer": "ipython3",
   "version": "3.10.18"
  }
 },
 "nbformat": 4,
 "nbformat_minor": 5
}
